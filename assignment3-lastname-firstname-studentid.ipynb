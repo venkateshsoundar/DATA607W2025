{
 "cells": [
  {
   "cell_type": "markdown",
   "metadata": {},
   "source": [
    "### Assignment 3\n",
    "\n",
    "#### Flower classification"
   ]
  },
  {
   "cell_type": "markdown",
   "metadata": {},
   "source": [
    "Adapt the method of Lecture 9 from binary classification to $C$-class classification ($C=5$) to classify images of flowers in [my repository](https://github.com/mgreenbe/flower-classification.git).\n",
    "\n",
    "- Use an random 80%/20% split of the data into training and validation.\n",
    "\n",
    "- Use a ResNet18, ResNet34, or a ResNet50 model, pretrained on ImageNet, with the classification head replaced as appropriate to our problem.\n",
    "\n",
    "- At the end of each training epoch compute and print out the [cross-entropy loss](https://pytorch.org/docs/stable/generated/torch.nn.functional.cross_entropy.html) and classification accuracy on the validation set.\n",
    "\n",
    "- Time permitting, look into some tricks you might use to improve your classifier, e.g. [randomly flipping training images horizontally](https://pytorch.org/vision/0.20/generated/torchvision.transforms.RandomHorizontalFlip.html). (Why might this help?)\n",
    "\n",
    "- You're also welcome to experiment with other vision models beyond the ResNets. If you find one that works particularly well, let me know!\n"
   ]
  }
 ],
 "metadata": {
  "kernelspec": {
   "display_name": ".venv",
   "language": "python",
   "name": "python3"
  },
  "language_info": {
   "codemirror_mode": {
    "name": "ipython",
    "version": 3
   },
   "file_extension": ".py",
   "mimetype": "text/x-python",
   "name": "python",
   "nbconvert_exporter": "python",
   "pygments_lexer": "ipython3",
   "version": "3.13.2"
  }
 },
 "nbformat": 4,
 "nbformat_minor": 2
}
