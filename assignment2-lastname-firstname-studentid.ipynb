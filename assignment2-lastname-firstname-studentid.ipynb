{
 "cells": [
  {
   "cell_type": "markdown",
   "metadata": {},
   "source": [
    "### 1. Decision trees and nearest neighbors\n",
    "\n",
    "Below, I fit a decision a decision tree and a nearest neighbors model to randomly generated data. The two models give the exact same predictions on the test set. Why?\n",
    "\n",
    "Does this phenomenon continue to hold for values of `p` and `k` other than `1`? Explain."
   ]
  },
  {
   "cell_type": "code",
   "execution_count": 1,
   "metadata": {},
   "outputs": [],
   "source": [
    "import numpy as np\n",
    "from sklearn.tree import DecisionTreeRegressor\n",
    "from sklearn.neighbors import KNeighborsRegressor\n",
    "\n",
    "rng = np.random.default_rng()\n",
    "n = 100\n",
    "p = 1\n",
    "k = 1\n",
    "\n",
    "X_train = rng.normal(size=(100, p))\n",
    "y_train = rng.normal(size=100)\n",
    "X_test = rng.normal(size=(100, p))\n",
    "\n",
    "knn = KNeighborsRegressor(n_neighbors=k)\n",
    "knn.fit(X_train, y_train)\n",
    "\n",
    "dt = DecisionTreeRegressor(min_samples_leaf=k)\n",
    "dt.fit(X_train, y_train)\n",
    "\n",
    "assert np.allclose(knn.predict(X_test), dt.predict(X_test))"
   ]
  },
  {
   "cell_type": "markdown",
   "metadata": {},
   "source": [
    "### 2. Otto Group Product Classification Challenge\n",
    "\n",
    "Fit models of the following type to the [Otto Group Product Classification Challenge](https://www.kaggle.com/competitions/otto-group-product-classification-challenge) dataset.\n",
    "\n",
    "- Regularized logistic regression ($L_1$, $L_2$)\n",
    "\n",
    "- Random forest\n",
    "\n",
    "- A boosted tree ensemble of your choice.\n",
    "\n",
    "For the logistic regression fits, find optimal regularization parameters using cross-validation.\n",
    "\n",
    "For the tree-based models, can you find parameter settings that meaningfully improve on the defaults?"
   ]
  }
 ],
 "metadata": {
  "kernelspec": {
   "display_name": ".venv",
   "language": "python",
   "name": "python3"
  },
  "language_info": {
   "codemirror_mode": {
    "name": "ipython",
    "version": 3
   },
   "file_extension": ".py",
   "mimetype": "text/x-python",
   "name": "python",
   "nbconvert_exporter": "python",
   "pygments_lexer": "ipython3",
   "version": "3.13.2"
  }
 },
 "nbformat": 4,
 "nbformat_minor": 2
}
